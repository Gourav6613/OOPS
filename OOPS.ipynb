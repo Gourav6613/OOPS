{
 "cells": [
  {
   "cell_type": "code",
   "execution_count": null,
   "id": "2d14a237-87cb-460a-b058-308f2ab13ad0",
   "metadata": {},
   "outputs": [],
   "source": [
    "# 1. What are the five key concepts of Object-Oriented Programming (OOP)?"
   ]
  },
  {
   "cell_type": "code",
   "execution_count": null,
   "id": "bfb087d3-58c7-47f0-b3b8-e429ee3703cc",
   "metadata": {},
   "outputs": [],
   "source": [
    "# ans: The five key concepts of Object-Oriented Programming (OOP) are:\n",
    "# 1.Class: A class is like a blueprint for creating objects. It defines a set of properties (attributes) and methods (functions) that the objects \n",
    "# created from the class will have.\n",
    "# 2.Object: An object is an instance of a class. If a class is like a blueprint, then an object is the actual building created from that blueprint. \n",
    "# Each object can have different values for the properties defined in the class.\n",
    "# 3.Encapsulation: Encapsulation means bundling the data (attributes) and methods (functions) that operate on the data into a single unit or class. \n",
    "# It also involves restricting direct access to some of the object's components, which is known as data hiding. This helps to protect the object's \n",
    "# data from being modified unexpectedly.\n",
    "# 4.Inheritance: Inheritance allows a new class to inherit properties and methods from an existing class. The new class is called the \"child\" or \n",
    "# \"subclass,\" and the existing class is the \"parent\" or \"superclass.\" This helps in code reusability and allows for creating a more specific version \n",
    "# of a class.\n",
    "# 5.Polymorphism: Polymorphism means \"many forms.\" In OOP, it allows objects of different classes to be treated as objects of a common superclass. \n",
    "# It also allows a single function or method to work in different ways depending on the object it is acting upon."
   ]
  },
  {
   "cell_type": "code",
   "execution_count": 1,
   "id": "557abe07-9c08-462d-83de-557dc32a1b68",
   "metadata": {},
   "outputs": [],
   "source": [
    "# 2. Write a Python class for a Car with attributes for make, model, and year. Include a method to display the car's information."
   ]
  },
  {
   "cell_type": "code",
   "execution_count": 7,
   "id": "57825935-3539-4e3e-b0bc-cc2867e779e0",
   "metadata": {},
   "outputs": [
    {
     "name": "stdout",
     "output_type": "stream",
     "text": [
      "the brand is Audi, the model is R4 manufactured in the year of 2023\n"
     ]
    }
   ],
   "source": [
    "# ans: Python class for a Car with attributes for make, model, and year Including a method to display the car's information:\n",
    "class Car:\n",
    "    def __init__(self, make, model, year):\n",
    "        self.make = make\n",
    "        self.model = model\n",
    "        self.year = year\n",
    "    def car_info(self):\n",
    "        print(f'the brand is {self.make}, the model is {self.model} manufactured in the year of {self.year}')\n",
    "        \n",
    "car1=Car('Audi', 'R4', 2023) \n",
    "car1.car_info()"
   ]
  },
  {
   "cell_type": "code",
   "execution_count": null,
   "id": "e7c772d3-2e81-478a-a772-35cf0ed22127",
   "metadata": {},
   "outputs": [],
   "source": [
    "# 3. Explain the difference between instance methods and class methods. Provide an example of each. "
   ]
  },
  {
   "cell_type": "code",
   "execution_count": 9,
   "id": "bb6c45bd-157f-4e12-85f0-2257fdefa047",
   "metadata": {},
   "outputs": [
    {
     "name": "stdout",
     "output_type": "stream",
     "text": [
      "Buddy says Woof!\n",
      "Canis lupus familiaris\n"
     ]
    }
   ],
   "source": [
    "# ans: Instance methods and class methods are two different types of methods in Python classes, and they serve distinct purposes. Here’s the \n",
    "# difference between them:\n",
    "# 1. Instance Methods:\n",
    "# a) Definition: Instance methods are functions defined within a class that operate on instances of the class. These methods can access and modify \n",
    "# the attributes of the specific instance they are called on.\n",
    "# b) How to Define: Instance methods always take self as the first parameter, which represents the instance of the class.\n",
    "# c) Usage: They are used when you need to interact with the instance's attributes or other instance-specific data.\n",
    "# example:\n",
    "class Dog:\n",
    "    def __init__(self, name, breed):\n",
    "        self.name = name\n",
    "        self.breed = breed\n",
    "    \n",
    "    def bark(self):  # This is an instance method\n",
    "        return f\"{self.name} says Woof!\"\n",
    "\n",
    "# Example usage\n",
    "my_dog = Dog(\"Buddy\", \"Golden Retriever\")\n",
    "print(my_dog.bark())  # Output: Buddy says Woof!\n",
    "\n",
    "# 2. Class Methods:\n",
    "# a) Definition: Class methods are functions that are bound to the class itself, not to any specific instance. They can modify class state that \n",
    "# applies across all instances of the class.\n",
    "# b) How to Define: Class methods take cls as the first parameter, which represents the class itself. You use the @classmethod decorator to define a \n",
    "# class method.\n",
    "# c) Usage: They are used when you need to work with class-level data or methods that are not specific to any single instance.\n",
    "# example:\n",
    "class Dog:\n",
    "    species = \"Canis lupus familiaris\"  # Class attribute\n",
    "    \n",
    "    def __init__(self, name, breed):\n",
    "        self.name = name\n",
    "        self.breed = breed\n",
    "    \n",
    "    @classmethod\n",
    "    def get_species(cls):  # This is a class method\n",
    "        return cls.species\n",
    "\n",
    "# Example usage\n",
    "print(Dog.get_species())  # Output: Canis lupus familiaris"
   ]
  },
  {
   "cell_type": "code",
   "execution_count": null,
   "id": "4ef28471-59c3-4655-a1b7-3b609b0a97e5",
   "metadata": {},
   "outputs": [],
   "source": [
    "# 4. How does Python implement method overloading? Give an example. "
   ]
  },
  {
   "cell_type": "code",
   "execution_count": 12,
   "id": "a5020a2b-e6e0-443d-a4e1-d39aaaba9937",
   "metadata": {},
   "outputs": [
    {
     "name": "stdout",
     "output_type": "stream",
     "text": [
      "10\n",
      "30\n",
      "60\n",
      "10\n",
      "30\n",
      "60\n",
      "25\n",
      "15\n"
     ]
    }
   ],
   "source": [
    "# ans: Python does not support method overloading in the traditional sense, as seen in languages like Java or C++. In those languages, you can \n",
    "# define multiple methods with the same name but different parameters (i.e., different signatures), and the correct method is chosen based on the \n",
    "# arguments passed.\n",
    "# However, in Python, you can achieve similar functionality using default arguments, variable-length arguments, or by manually checking the types\n",
    "# and number of arguments inside a single method.\n",
    "# Example Using Default Arguments:\n",
    "# You can use default arguments to create a method that behaves differently depending on the number of arguments provided.\n",
    "class MathOperations:\n",
    "    def add(self, a, b=0, c=0):  # Default values for b and c\n",
    "        return a + b + c\n",
    "\n",
    "# Example usage\n",
    "math_op = MathOperations()\n",
    "\n",
    "print(math_op.add(10))       # Output: 10\n",
    "print(math_op.add(10, 20))   # Output: 30\n",
    "print(math_op.add(10, 20, 30))  # Output: 60\n",
    "\n",
    "# in this example, the add method can take one, two, or three arguments. Depending on how many arguments are passed, it adds different numbers \n",
    "# together.\n",
    "\n",
    "#Example Using Variable-Length Arguments:\n",
    "# You can also use *args to accept a variable number of arguments and then process them accordingly:\n",
    "class MathOperations:\n",
    "    def add(self, *args):\n",
    "        return sum(args)\n",
    "\n",
    "# Example usage\n",
    "math_op = MathOperations()\n",
    "\n",
    "print(math_op.add(10))         # Output: 10\n",
    "print(math_op.add(10, 20))     # Output: 30\n",
    "print(math_op.add(10, 20, 30)) # Output: 60\n",
    "\n",
    "# In this example, the add method can take any number of arguments and will return their sum.\n",
    "\n",
    "# Manual Type and Argument Checking:\n",
    "# You can also manually check the types and number of arguments inside the method and implement different behaviors.\n",
    "class MathOperations:\n",
    "    def multiply(self, a, b=None):\n",
    "        if b is not None:\n",
    "            return a * b\n",
    "        else:\n",
    "            return a * a  # Square if only one argument is provided\n",
    "\n",
    "# Example usage\n",
    "math_op = MathOperations()\n",
    "\n",
    "print(math_op.multiply(5))       # Output: 25 (5 squared)\n",
    "print(math_op.multiply(5, 3))    # Output: 15 (5 multiplied by 3)\n",
    "\n",
    "# In this example, if only one argument is provided, the method squares it. If two arguments are provided, it multiplies them."
   ]
  },
  {
   "cell_type": "code",
   "execution_count": null,
   "id": "bd8bb88b-d207-4959-bda0-cd9807e74848",
   "metadata": {},
   "outputs": [],
   "source": [
    "# 5. What are the three types of access modifiers in Python? How are they denoted?"
   ]
  },
  {
   "cell_type": "code",
   "execution_count": 10,
   "id": "62155a4c-18cb-4fa9-bd13-f199568c2f3d",
   "metadata": {},
   "outputs": [
    {
     "name": "stdout",
     "output_type": "stream",
     "text": [
      "I am public\n",
      "This is a public method\n",
      "I am protected\n",
      "This is a protected method\n",
      "I am private\n",
      "This is a private method\n"
     ]
    }
   ],
   "source": [
    "# ans: In Python, access modifiers control the visibility of class members (attributes and methods) from outside the class. While Python \n",
    "# doesn't have strict access modifiers like some other languages (e.g., private, protected, public), it uses naming conventions to indicate \n",
    "# the intended level of access. There are three types of access levels:\n",
    "# 1. Public:\n",
    "# a) Description: Members that are accessible from anywhere, both inside and outside the class.\n",
    "# b) Denotation: No leading underscores (_) are used for public members.\n",
    "# example:\n",
    "class MyClass:\n",
    "    def __init__(self):\n",
    "        self.public_attribute = \"I am public\"\n",
    "    \n",
    "    def public_method(self):\n",
    "        print(\"This is a public method\")\n",
    "\n",
    "obj = MyClass()\n",
    "print(obj.public_attribute)  # Accessible from outside\n",
    "obj.public_method()          # Accessible from outside\n",
    "\n",
    "# 2. Protected:\n",
    "# a) Description: Members that are intended to be accessible only within the class and its subclasses, but not meant for direct access from\n",
    "# outside the class. However, this is only a convention in Python, and these members can still be accessed from outside the class.\n",
    "# b) Denotation: A single leading underscore (_) is used for protected members\n",
    "# example:\n",
    "class MyClass:\n",
    "    def __init__(self):\n",
    "        self._protected_attribute = \"I am protected\"\n",
    "    \n",
    "    def _protected_method(self):\n",
    "        print(\"This is a protected method\")\n",
    "\n",
    "obj = MyClass()\n",
    "print(obj._protected_attribute)  # Accessible but should not be accessed directly\n",
    "obj._protected_method()          # Accessible but should not be accessed directly\n",
    "\n",
    "# 3. Private:\n",
    "# a) Description: Members that are intended to be accessible only within the class where they are defined. Python achieves this by name \n",
    "# mangling, where the name of the member is changed internally. This makes it harder (but not impossible) to access these members from \n",
    "# outside the class.\n",
    "# b) Denotation: A double leading underscore (__) is used for private members.\n",
    "# example:\n",
    "class MyClass:\n",
    "    def __init__(self):\n",
    "        self.__private_attribute = \"I am private\"\n",
    "    \n",
    "    def __private_method(self):\n",
    "        print(\"This is a private method\")\n",
    "\n",
    "    def access_private_method(self):\n",
    "        print(self.__private_attribute)\n",
    "        self.__private_method()  # Can be accessed within the class\n",
    "\n",
    "obj = MyClass()\n",
    "obj.access_private_method()\n"
   ]
  },
  {
   "cell_type": "code",
   "execution_count": null,
   "id": "0ae53651-24e5-4bf1-bac8-8246a443a998",
   "metadata": {},
   "outputs": [],
   "source": [
    "# 6. Describe the five types of inheritance in Python. Provide a simple example of multiple inheritance. "
   ]
  },
  {
   "cell_type": "code",
   "execution_count": 15,
   "id": "4e649770-5cbc-475a-9a13-51d35acc6305",
   "metadata": {},
   "outputs": [
    {
     "name": "stdout",
     "output_type": "stream",
     "text": [
      "Some sound\n",
      "Woof!\n",
      "Some sound\n",
      "Moving\n",
      "Some sound\n",
      "Walking\n",
      "Woof!\n",
      "Some sound\n",
      "Some sound\n",
      "Woof!\n",
      "Meow!\n",
      "Some generic sound\n",
      "Walking on land\n",
      "Flying in the sky\n",
      "Hanging upside down\n",
      "Has large wings\n"
     ]
    }
   ],
   "source": [
    "# ans: Inheritance is a key concept in object-oriented programming that allows a class to inherit attributes and methods from another class. \n",
    "# Python supports five types of inheritance:\n",
    "# 1. Single Inheritance:\n",
    "# Description: A class inherits from one and only one parent class. This is the most straightforward form of inheritance.\n",
    "class Animal:\n",
    "    def sound(self):\n",
    "        return \"Some sound\"\n",
    "\n",
    "class Dog(Animal):\n",
    "    def bark(self):\n",
    "        return \"Woof!\"\n",
    "\n",
    "dog = Dog()\n",
    "print(dog.sound())  # Inherited from Animal class\n",
    "print(dog.bark())   # Defined in Dog class\n",
    "\n",
    "# 2. Multiple Inheritance:\n",
    "# Description: A class inherits from more than one parent class. This allows the child class to inherit attributes and methods from multiple\n",
    "# sources.\n",
    "# example:\n",
    "class Animal:\n",
    "    def sound(self):\n",
    "        return \"Some sound\"\n",
    "\n",
    "class Vehicle:\n",
    "    def move(self):\n",
    "        return \"Moving\"\n",
    "\n",
    "class Carriage(Animal, Vehicle):\n",
    "    pass\n",
    "\n",
    "carriage = Carriage()\n",
    "print(carriage.sound())  # Inherited from Animal class\n",
    "print(carriage.move())   # Inherited from Vehicle class\n",
    "\n",
    "# 3. Multilevel Inheritance:\n",
    "# Description: A class is derived from a class which is also derived from another class. This creates a \"chain\" of inheritance.\n",
    "# example:\n",
    "class Animal:\n",
    "    def sound(self):\n",
    "        return \"Some sound\"\n",
    "\n",
    "class Mammal(Animal):\n",
    "    def walk(self):\n",
    "        return \"Walking\"\n",
    "\n",
    "class Dog(Mammal):\n",
    "    def bark(self):\n",
    "        return \"Woof!\"\n",
    "\n",
    "dog = Dog()\n",
    "print(dog.sound())  # Inherited from Animal class\n",
    "print(dog.walk())   # Inherited from Mammal class\n",
    "print(dog.bark())   # Defined in Dog class\n",
    "\n",
    "# 4. Hierarchical Inheritance:\n",
    "# Description: Multiple classes inherit from a single parent class. This allows different classes to share the same base class.\n",
    "# example:\n",
    "class Animal:\n",
    "    def sound(self):\n",
    "        return \"Some sound\"\n",
    "\n",
    "class Dog(Animal):\n",
    "    def bark(self):\n",
    "        return \"Woof!\"\n",
    "\n",
    "class Cat(Animal):\n",
    "    def meow(self):\n",
    "        return \"Meow!\"\n",
    "\n",
    "dog = Dog()\n",
    "cat = Cat()\n",
    "print(dog.sound())  # Inherited from Animal class\n",
    "print(cat.sound())  # Inherited from Animal class\n",
    "print(dog.bark())   # Defined in Dog class\n",
    "print(cat.meow())   # Defined in Cat class\n",
    "\n",
    "# 5. Hybrid Inheritance:\n",
    "# Description: A combination of two or more types of inheritance. For example, it could be a mix of multilevel and multiple inheritance. \n",
    "# Python uses the C3 Linearization algorithm (MRO - Method Resolution Order) to resolve ambiguity in such cases.\n",
    "# Example: This can involve a complex mix of the above inheritance types.\n",
    "# Base class\n",
    "class Animal:\n",
    "    def sound(self):\n",
    "        return \"Some generic sound\"\n",
    "\n",
    "# Derived class 1 (Single Inheritance from Animal)\n",
    "class Mammal(Animal):\n",
    "    def walk(self):\n",
    "        return \"Walking on land\"\n",
    "\n",
    "# Derived class 2 (Single Inheritance from Animal)\n",
    "class Bird(Animal):\n",
    "    def fly(self):\n",
    "        return \"Flying in the sky\"\n",
    "\n",
    "# Derived class 3 (Multiple Inheritance from Mammal and Bird)\n",
    "class Bat(Mammal, Bird):\n",
    "    def hang(self):\n",
    "        return \"Hanging upside down\"\n",
    "\n",
    "# Derived class 4 (Multilevel Inheritance: Bat inherits from Mammal, which inherits from Animal)\n",
    "class FlyingFox(Bat):\n",
    "    def big_wings(self):\n",
    "        return \"Has large wings\"\n",
    "\n",
    "# Example usage\n",
    "flying_fox = FlyingFox()\n",
    "\n",
    "print(flying_fox.sound())    # Inherited from Animal class\n",
    "print(flying_fox.walk())     # Inherited from Mammal class\n",
    "print(flying_fox.fly())      # Inherited from Bird class\n",
    "print(flying_fox.hang())     # Inherited from Bat class\n",
    "print(flying_fox.big_wings())# Defined in FlyingFox class"
   ]
  },
  {
   "cell_type": "code",
   "execution_count": null,
   "id": "46659dce-ac2f-44f7-aa23-1b5eecd17872",
   "metadata": {},
   "outputs": [],
   "source": [
    "# 7. What is the Method Resolution Order (MRO) in Python? How can you retrieve it programmatically?"
   ]
  },
  {
   "cell_type": "code",
   "execution_count": 1,
   "id": "538ea892-952b-40af-a3d6-22f9368666ae",
   "metadata": {},
   "outputs": [
    {
     "name": "stdout",
     "output_type": "stream",
     "text": [
      "[<class '__main__.D'>, <class '__main__.B'>, <class '__main__.C'>, <class '__main__.A'>, <class 'object'>]\n",
      "(<class '__main__.D'>, <class '__main__.B'>, <class '__main__.C'>, <class '__main__.A'>, <class 'object'>)\n"
     ]
    }
   ],
   "source": [
    "# ans: In Python, Method Resolution Order (MRO) refers to the order in which Python looks for a method or attribute in a class hierarchy when you call \n",
    "# it. This is especially important in cases of multiple inheritance, where a class can inherit from more than one parent class.\n",
    "# How MRO Works:\n",
    "# Python uses the C3 Linearization Algorithm to figure out the MRO. It looks for the method in the current class first, then moves to parent classes \n",
    "# in a specific order, depending on the inheritance chain. It ensures that:\n",
    "# 1.The method from the current class is checked first.\n",
    "# 2.Then, the method from the first parent class, then the second parent, and so on.\n",
    "# 3.It avoids checking any class more than once.\n",
    "# Example:\n",
    "# If you have multiple classes like this:\n",
    "class A:\n",
    "    def method(self):\n",
    "        print(\"A\")\n",
    "\n",
    "class B(A):\n",
    "    def method(self):\n",
    "        print(\"B\")\n",
    "\n",
    "class C(A):\n",
    "    def method(self):\n",
    "        print(\"C\")\n",
    "\n",
    "class D(B, C):\n",
    "    pass\n",
    "\n",
    "# Here, class D inherits from both B and C, and both B and C inherit from A.\n",
    "# The MRO of D determines which method() is called when you invoke D().method(). In this case, the order would be D -> B -> C -> A.\n",
    "\n",
    "# Retrieving MRO Programmatically:\n",
    "# You can retrieve the MRO of a class using the mro() method or the __mro__ attribute.\n",
    "# Here’s how you can do it:\n",
    "# Using mro() method\n",
    "print(D.mro())\n",
    "\n",
    "# Using __mro__ attribute\n",
    "print(D.__mro__)\n",
    "\n",
    "# Both will return a list or tuple showing the classes in the order Python will search for methods.\n",
    "# This shows that Python will first look for methods in D, then B, then C, then A, and finally the built-in object class (since all classes in Python \n",
    "# inherit from object).\n"
   ]
  },
  {
   "cell_type": "code",
   "execution_count": 2,
   "id": "1c1950d4-6cff-42b4-afe5-04cb36666615",
   "metadata": {},
   "outputs": [],
   "source": [
    "# 8. Create an abstract base class Shape' with an abstract method area ()*. Then create two subclasses *Circle and \"Rectangle that implement the area \n",
    "# method. "
   ]
  },
  {
   "cell_type": "code",
   "execution_count": 6,
   "id": "436171ff-c8af-4793-86b7-ddec6e622e6f",
   "metadata": {},
   "outputs": [
    {
     "name": "stdout",
     "output_type": "stream",
     "text": [
      "Area of the circle: 78.54\n",
      "Area of the rectangle: 24.00\n"
     ]
    }
   ],
   "source": [
    "# ans: Here’s how you can create an abstract base class Shape with an abstract method area() in Python. We will also implement two subclasses: Circle \n",
    "# and Rectangle, which provide their own definitions of the area() method.\n",
    "# Steps:\n",
    "# 1.Use Python's abc module to create an abstract base class.\n",
    "# 2.Define an abstract method area() in the Shape class.\n",
    "# 3.Implement Circle and Rectangle classes to inherit from Shape and provide their own area() implementations.\n",
    "# Code Example:\n",
    "from abc import ABC, abstractmethod\n",
    "import math\n",
    "\n",
    "# Abstract base class\n",
    "class Shape(ABC):\n",
    "\n",
    "    @abstractmethod\n",
    "    def area(self):\n",
    "        pass\n",
    "\n",
    "# Subclass Circle implementing the area method\n",
    "class Circle(Shape):\n",
    "    def __init__(self, radius):\n",
    "        self.radius = radius\n",
    "\n",
    "    def area(self):\n",
    "        return math.pi * self.radius ** 2\n",
    "\n",
    "# Subclass Rectangle implementing the area method\n",
    "class Rectangle(Shape):\n",
    "    def __init__(self, width, height):\n",
    "        self.width = width\n",
    "        self.height = height\n",
    "\n",
    "    def area(self):\n",
    "        return self.width * self.height\n",
    "\n",
    "# Creating instances and calculating area\n",
    "circle = Circle(5)  # Circle with radius 5\n",
    "rectangle = Rectangle(4, 6)  # Rectangle with width 4 and height 6\n",
    "\n",
    "print(f\"Area of the circle: {circle.area():.2f}\")\n",
    "print(f\"Area of the rectangle: {rectangle.area():.2f}\")\n",
    "\n"
   ]
  },
  {
   "cell_type": "code",
   "execution_count": 4,
   "id": "3c77aa08-634f-4b2e-8bc2-4da886d56560",
   "metadata": {},
   "outputs": [],
   "source": [
    "# 9. Demonstrate polymorphism by creating a function that can work with different shape objects to calculate and print their areas. "
   ]
  },
  {
   "cell_type": "code",
   "execution_count": 5,
   "id": "112c1e3f-9906-4ad7-b260-12ca77177294",
   "metadata": {},
   "outputs": [
    {
     "name": "stdout",
     "output_type": "stream",
     "text": [
      "the area of circle is:78.54\n",
      "the area of rectangle is:54.00\n"
     ]
    }
   ],
   "source": [
    "# ans: Demonstration of polymorphism by creating a function that can work with different shape objects to calculate and print their areas:\n",
    "from abc import ABC, abstractmethod\n",
    "import math\n",
    "class shape(ABC):\n",
    "    @abstractmethod\n",
    "    def area(self):\n",
    "        pass\n",
    "class circle(shape):\n",
    "    def __init__(self, radius):\n",
    "        self.radius = radius\n",
    "    def area(self):\n",
    "        return math.pi*self.radius**2\n",
    "class rectangle(shape):\n",
    "    def __init__(self, length, breadth):\n",
    "        self.length = length\n",
    "        self.breadth = breadth\n",
    "    def area(self):\n",
    "        return self.length * self.breadth\n",
    "    \n",
    "def print_area(shape):\n",
    "    print(f'the area of {shape.__class__.__name__} is:{shape.area():.2f}')\n",
    "cir=circle(5)\n",
    "rec=rectangle(6,9)\n",
    "print_area(cir)\n",
    "print_area(rec)"
   ]
  },
  {
   "cell_type": "code",
   "execution_count": 6,
   "id": "3b3d2105-4590-4bdd-b4f5-6089d5b1e8d2",
   "metadata": {},
   "outputs": [],
   "source": [
    "# 10. Implement encapsulation in a \"BankAccount class with private attributes for \"balance and account_number. Include methods for deposit, \n",
    "# withdrawal, and balance inquiry."
   ]
  },
  {
   "cell_type": "code",
   "execution_count": 27,
   "id": "17f162a1-e01f-43ec-96ce-6ff54e75569b",
   "metadata": {},
   "outputs": [],
   "source": [
    "# ans: encapsulation in a \"BankAccount class with private attributes for \"balance and account_number. Include methods for deposit, withdrawal, \n",
    "# and balance inquiry.\n",
    "class BankAccount:\n",
    "    def __init__(self, balance, account_number):\n",
    "        self.__bal = balance\n",
    "        self.__acc_no = account_number\n",
    "    def deposit(self, amount):\n",
    "        self.__bal = self.__bal+amount\n",
    "    def withdrawal(self, amount):\n",
    "        if self.__bal<=0:\n",
    "            raise ValueError('no sufficient balance')\n",
    "        else:\n",
    "            self.__bal-=amount\n",
    "    def balance_inquiry(self):\n",
    "        return self.__bal"
   ]
  },
  {
   "cell_type": "code",
   "execution_count": 32,
   "id": "7a7bb078-a31b-4613-9d70-aa606740405c",
   "metadata": {},
   "outputs": [
    {
     "data": {
      "text/plain": [
       "6000"
      ]
     },
     "execution_count": 32,
     "metadata": {},
     "output_type": "execute_result"
    }
   ],
   "source": [
    "ba=BankAccount(5000, 2244887799)\n",
    "ba.deposit(4000)\n",
    "ba.withdrawal(3000)\n",
    "ba.balance_inquiry()"
   ]
  },
  {
   "cell_type": "code",
   "execution_count": 34,
   "id": "4dd5172c-3f1c-4e14-96bf-33f86013b9e9",
   "metadata": {},
   "outputs": [],
   "source": [
    "# 11. Write a class that overrides the i -_str__and __add__* magic methods. What will these methods allow you to do? "
   ]
  },
  {
   "cell_type": "code",
   "execution_count": 35,
   "id": "a2625d8c-67e0-4ea4-b14b-f8fbeb51951c",
   "metadata": {},
   "outputs": [
    {
     "name": "stdout",
     "output_type": "stream",
     "text": [
      "Point(6, 8)\n"
     ]
    }
   ],
   "source": [
    "# ans:\n",
    "class Point:\n",
    "    def __init__(self, x, y):\n",
    "        self.x = x\n",
    "        self.y = y\n",
    "\n",
    "    def __add__(self, other):\n",
    "        # Directly adding, assuming the other object has x and y attributes\n",
    "        return Point(self.x + other.x, self.y + other.y)\n",
    "\n",
    "    def __str__(self):\n",
    "        return f\"Point({self.x}, {self.y})\"\n",
    "\n",
    "# Create two Point objects\n",
    "point1 = Point(2, 3)\n",
    "point2 = Point(4, 5)\n",
    "\n",
    "# This works because both are Point objects\n",
    "print(point1 + point2) \n",
    "\n",
    "# What These Methods Do:\n",
    "# 1. __str__: The __str__ method allows you to control how the object is represented when printed. In this example, calling print(point1) \n",
    "# will output \"Point(2, 3)\" instead of the default object representation like <__main__.Point object at 0x...>.\n",
    "# 2.__add__: The __add__ method allows you to use the + operator to add two Point objects. When you do point1 + point2, it returns a new \n",
    "# Point object where the x and y coordinates of the two points are added together."
   ]
  },
  {
   "cell_type": "code",
   "execution_count": null,
   "id": "a12febe2-38f2-4759-85ce-95f6e8508068",
   "metadata": {},
   "outputs": [],
   "source": [
    "# 12. Create a decorator that measures and prints the execution time of a function."
   ]
  },
  {
   "cell_type": "code",
   "execution_count": 36,
   "id": "737c4f55-cd15-4656-b7a1-30fd63b5402d",
   "metadata": {},
   "outputs": [
    {
     "name": "stdout",
     "output_type": "stream",
     "text": [
      "Execution time of example_function: 0.0260 seconds\n"
     ]
    }
   ],
   "source": [
    "#ans:\n",
    "import time\n",
    "\n",
    "# Define the decorator\n",
    "def execution_time_decorator(func):\n",
    "    def wrapper(*args, **kwargs):\n",
    "        start_time = time.time()  # Record the start time\n",
    "        result = func(*args, **kwargs)  # Execute the function\n",
    "        end_time = time.time()  # Record the end time\n",
    "        execution_time = end_time - start_time  # Calculate the execution time\n",
    "        print(f\"Execution time of {func.__name__}: {execution_time:.4f} seconds\")\n",
    "        return result  # Return the result of the function\n",
    "    return wrapper\n",
    "\n",
    "# Example function using the decorator\n",
    "@execution_time_decorator\n",
    "def example_function():\n",
    "    for _ in range(1000000):\n",
    "        pass  # Simulate a time-consuming task\n",
    "\n",
    "# Call the decorated function\n",
    "example_function()"
   ]
  },
  {
   "cell_type": "code",
   "execution_count": null,
   "id": "96a5af25-c3b8-4356-9440-dca162d697ba",
   "metadata": {},
   "outputs": [],
   "source": [
    "# 13. Explain the concept of the Diamond Problem in multiple inheritance. How does Python resolve it? "
   ]
  },
  {
   "cell_type": "code",
   "execution_count": 37,
   "id": "22e45b84-0099-44bb-a865-0e1a22eb7629",
   "metadata": {},
   "outputs": [
    {
     "name": "stdout",
     "output_type": "stream",
     "text": [
      "[<class '__main__.D'>, <class '__main__.B'>, <class '__main__.C'>, <class '__main__.A'>, <class 'object'>]\n",
      "Method in B\n"
     ]
    }
   ],
   "source": [
    "# ans: The Diamond Problem is a specific issue that arises in programming languages that support multiple inheritance. It occurs when a \n",
    "# class inherits from two classes that both inherit from a common base class, creating a diamond-shaped inheritance structure.\n",
    "# Diamond Problem Explaination:\n",
    "# Consider the following class hierarchy:\n",
    "#       A\n",
    "#      / \\\n",
    "#     B   C\n",
    "#      \\ /\n",
    "#       D\n",
    "# In this diagram:\n",
    "# A is the base class.\n",
    "# B and C both inherit from A.\n",
    "# D inherits from both B and C.\n",
    "# The diamond problem arises when class D inherits from both B and C, and both B and C inherit from A. If class D calls a method or \n",
    "# accesses an attribute defined in A, it can be unclear which implementation D should inherit from, as both B and C could provide their own \n",
    "# versions.\n",
    "# Python's Resolution: Method Resolution Order (MRO):\n",
    "# Python resolves the diamond problem using the Method Resolution Order (MRO), which is a specific algorithm that determines the order in \n",
    "# which base classes are searched when executing a method or accessing an attribute.\n",
    "# Python uses the C3 linearization algorithm to define the MRO. This algorithm ensures that:\n",
    "# The base classes are visited in a consistent order.\n",
    "# The MRO is linear, meaning that each class appears before its derived classes in the search order.\n",
    "# How to Retrieve the MRO:\n",
    "# You can retrieve the MRO of a class using the __mro__ attribute or the mro() method.\n",
    "# Example:\n",
    "class A:\n",
    "    def method(self):\n",
    "        print(\"Method in A\")\n",
    "\n",
    "class B(A):\n",
    "    def method(self):\n",
    "        print(\"Method in B\")\n",
    "\n",
    "class C(A):\n",
    "    def method(self):\n",
    "        print(\"Method in C\")\n",
    "\n",
    "class D(B, C):\n",
    "    pass\n",
    "\n",
    "# Retrieve and print the MRO\n",
    "print(D.mro())\n",
    "\n",
    "# Create an instance of D and call the method\n",
    "d = D()\n",
    "d.method()\n",
    "\n",
    "# Explanation:\n",
    "# D appears first.\n",
    "# B is next because D inherits from B before C.\n",
    "# C comes after B because D inherits from C second.\n",
    "# A is the next class after B and C since both B and C inherit from A.\n",
    "# object is the base class for all new-style classes in Python.\n",
    "# The MRO ensures that each class is visited in a predictable and consistent order, preventing ambiguities and conflicts that can arise \n",
    "# from multiple inheritance."
   ]
  },
  {
   "cell_type": "code",
   "execution_count": null,
   "id": "b259e095-2fc1-4e4b-8170-6641bbe3d973",
   "metadata": {},
   "outputs": [],
   "source": [
    "# 14. Write a class method that keeps track of the number of instances created from a class"
   ]
  },
  {
   "cell_type": "code",
   "execution_count": 8,
   "id": "9bb08083-aa14-4a8a-9eac-c12800d7f938",
   "metadata": {},
   "outputs": [],
   "source": [
    "# ans: a class method that keeps track of the number of instances created from a class:\n",
    "class InstanceTracker:\n",
    "    instances = 0\n",
    "    def __init__(self):\n",
    "        InstanceTracker.instances+=1\n",
    "    @classmethod\n",
    "    def no_of_instances(cls):\n",
    "        return cls.instances   "
   ]
  },
  {
   "cell_type": "code",
   "execution_count": 9,
   "id": "b68400ba-ba45-401e-a1db-4a3ce6ecbe7d",
   "metadata": {},
   "outputs": [
    {
     "name": "stdout",
     "output_type": "stream",
     "text": [
      "number of instances created are 3\n"
     ]
    }
   ],
   "source": [
    "a=InstanceTracker()\n",
    "b=InstanceTracker()\n",
    "c=InstanceTracker()\n",
    "print(\"number of instances created are\", InstanceTracker.no_of_instances())"
   ]
  },
  {
   "cell_type": "code",
   "execution_count": 10,
   "id": "1e9db99a-7b68-4e48-8714-59b6c78a4d6f",
   "metadata": {},
   "outputs": [],
   "source": [
    "# 15. Implement a static method in a class that checks if a given year is a leap year."
   ]
  },
  {
   "cell_type": "code",
   "execution_count": 16,
   "id": "ebe2df5c-aace-416e-bb51-016a79370867",
   "metadata": {},
   "outputs": [],
   "source": [
    "# ans: a static method in a class that checks if a given year is a leap year:\n",
    "class CheckLeapYear:\n",
    "    @staticmethod\n",
    "    def year(year):\n",
    "        if year%4==0:\n",
    "            return \"it's a leap year\"\n",
    "        else:\n",
    "            return \"not a leap year\""
   ]
  },
  {
   "cell_type": "code",
   "execution_count": 19,
   "id": "75801ee1-4983-4e46-b9da-393b6db97d6a",
   "metadata": {},
   "outputs": [
    {
     "data": {
      "text/plain": [
       "\"it's a leap year\""
      ]
     },
     "execution_count": 19,
     "metadata": {},
     "output_type": "execute_result"
    }
   ],
   "source": [
    "check=CheckLeapYear()\n",
    "check.year(2024)"
   ]
  },
  {
   "cell_type": "code",
   "execution_count": null,
   "id": "4423e9a8-7b8d-441e-a7ef-ad7da4028707",
   "metadata": {},
   "outputs": [],
   "source": []
  }
 ],
 "metadata": {
  "kernelspec": {
   "display_name": "Python 3 (ipykernel)",
   "language": "python",
   "name": "python3"
  },
  "language_info": {
   "codemirror_mode": {
    "name": "ipython",
    "version": 3
   },
   "file_extension": ".py",
   "mimetype": "text/x-python",
   "name": "python",
   "nbconvert_exporter": "python",
   "pygments_lexer": "ipython3",
   "version": "3.10.8"
  }
 },
 "nbformat": 4,
 "nbformat_minor": 5
}
